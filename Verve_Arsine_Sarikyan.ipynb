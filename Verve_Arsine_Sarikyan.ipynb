{
 "cells": [
  {
   "cell_type": "markdown",
   "id": "3e847a06",
   "metadata": {},
   "source": [
    "# Arsine Sarikyan"
   ]
  },
  {
   "cell_type": "markdown",
   "id": "1ecd742c",
   "metadata": {},
   "source": [
    "### 1) Imagine that you were asked to use this dataset to build a classification model, with gender as the target. Look at the information we have given you and identify 3-5 potential problems you can see with the provided dataset that might make building a classification model difficult."
   ]
  },
  {
   "cell_type": "markdown",
   "id": "91a1229b",
   "metadata": {},
   "source": [
    "- Data is provided at the event level while the classification is expected to be the user (gender), so the first step is to aggregate the data for the user level, however can lead to several problems.\n",
    "    - Different people can use the same phone for different apps and thus the provided target variable can be not   representative.\n",
    "    \n",
    "    - Even if we assume that theoretically there is one user for each user-id the aggregation itself creates several technical issues. How to aggregate the categorical features, take the mode or create a new binary/dummy variables whether or not that particular category was represented for the user. The same refers to the numeric ones, that is to use the average of time or again create separate columns for each app category and fill them with time spent.\n",
    "    \n",
    "    - The target variable itself is a bit unbalanced, which can be problematic for future deployment of the approach, however the lightgbm model and correctly chosen metric for evaluation can mitigate this. \n",
    "    \n",
    "    - In my subjective opinion, the dataset is small and this again can result in overfitting issues, however again depending on the approach, this can be solved by using oversampling techniques for making the data larger.\n"
   ]
  },
  {
   "cell_type": "markdown",
   "id": "c22c524b",
   "metadata": {},
   "source": [
    "### 2) Describe briefly how you would find the features that are likely to be the most important for your model."
   ]
  },
  {
   "cell_type": "markdown",
   "id": "ca1cd3d3",
   "metadata": {},
   "source": [
    "This part is actually a bit confusing because I would approach the problem by creating as many features as possible while aggregating the data. My first idea was to use general knowledge for selecting the most important ones, however with my aggregation there can be many columns, that's why I will use an anova-test for calculating f-statistics between categorical and numeric features and spearman correlation for numeric features. Depending on the results the other thing I can do is to treat the target as a categorical column and calculate anova test for the remaining numeric features."
   ]
  },
  {
   "cell_type": "markdown",
   "id": "7f7048ce",
   "metadata": {},
   "source": [
    "### 3) Identify which model you would try first, and at least one advantage and disadvantage of this choice."
   ]
  },
  {
   "cell_type": "markdown",
   "id": "834fb863",
   "metadata": {},
   "source": [
    "My first choice would be LightGBM model, because of the many advantages that it has, such as\n",
    "- handles categorical features and missing values on its own\n",
    "- is faster than the standard gradient boosting model\n",
    "- is more efficient because behind the scenes it creates discrete bins for training, which not only makes the model faster but also results in less overfitting than the other boosting types\n",
    "\n",
    "The disadvantage is the black-box nature of the model, which makes its explainability and interpretation limited."
   ]
  },
  {
   "cell_type": "code",
   "execution_count": null,
   "id": "2da8ea2b",
   "metadata": {},
   "outputs": [],
   "source": []
  }
 ],
 "metadata": {
  "kernelspec": {
   "display_name": "Python 3",
   "language": "python",
   "name": "python3"
  },
  "language_info": {
   "codemirror_mode": {
    "name": "ipython",
    "version": 3
   },
   "file_extension": ".py",
   "mimetype": "text/x-python",
   "name": "python",
   "nbconvert_exporter": "python",
   "pygments_lexer": "ipython3",
   "version": "3.8.3"
  }
 },
 "nbformat": 4,
 "nbformat_minor": 5
}
