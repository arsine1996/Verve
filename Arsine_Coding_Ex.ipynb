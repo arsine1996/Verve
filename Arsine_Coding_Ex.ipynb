{
 "cells": [
  {
   "cell_type": "code",
   "execution_count": 1,
   "id": "222fe22f",
   "metadata": {},
   "outputs": [],
   "source": [
    "import pandas as pd\n",
    "import numpy as np\n",
    "import itertools as it"
   ]
  },
  {
   "cell_type": "code",
   "execution_count": 2,
   "id": "8bf9c818",
   "metadata": {},
   "outputs": [],
   "source": [
    "def pair_multiplier(data, pair_number = 2, sum_value = 2020):\n",
    "    '''\n",
    "    get all possible pair combinations, for each possible pair number\n",
    "    \n",
    "    '''\n",
    "    pairs = list(it.combinations(data, pair_number))\n",
    "    pair_prod = [np.product(list(pairs[i])) for i in range(0, len(pairs)) if np.sum(list(pairs[i]))==sum_value]\n",
    "    return list(set(pair_prod))"
   ]
  },
  {
   "cell_type": "code",
   "execution_count": 3,
   "id": "965d0585",
   "metadata": {},
   "outputs": [],
   "source": [
    "data = pd.read_csv('dataset', header=None)\n",
    "df = data[0].unique()\n",
    "#df = [1721,979,366,299,675,1456]"
   ]
  },
  {
   "cell_type": "markdown",
   "id": "5577bb5c",
   "metadata": {},
   "source": [
    "### Part One"
   ]
  },
  {
   "cell_type": "code",
   "execution_count": 4,
   "id": "2fb56b67",
   "metadata": {},
   "outputs": [
    {
     "data": {
      "text/plain": [
       "[964875]"
      ]
     },
     "execution_count": 4,
     "metadata": {},
     "output_type": "execute_result"
    }
   ],
   "source": [
    "pair_multiplier(df, pair_number = 2)"
   ]
  },
  {
   "cell_type": "markdown",
   "id": "a9b7245a",
   "metadata": {},
   "source": [
    "#### Check"
   ]
  },
  {
   "cell_type": "code",
   "execution_count": 5,
   "id": "ad64798a",
   "metadata": {},
   "outputs": [
    {
     "data": {
      "text/plain": [
       "[964875]"
      ]
     },
     "execution_count": 5,
     "metadata": {},
     "output_type": "execute_result"
    }
   ],
   "source": [
    "list(set(([i*j for j in df for i in df if i+j==2020])))"
   ]
  },
  {
   "cell_type": "markdown",
   "id": "f670d430",
   "metadata": {},
   "source": [
    "### Part Two"
   ]
  },
  {
   "cell_type": "code",
   "execution_count": 6,
   "id": "5adfe45f",
   "metadata": {},
   "outputs": [
    {
     "data": {
      "text/plain": [
       "[158661360]"
      ]
     },
     "execution_count": 6,
     "metadata": {},
     "output_type": "execute_result"
    }
   ],
   "source": [
    "pair_multiplier(df, pair_number = 3)"
   ]
  },
  {
   "cell_type": "markdown",
   "id": "678e7b50",
   "metadata": {},
   "source": [
    "#### Check"
   ]
  },
  {
   "cell_type": "code",
   "execution_count": 7,
   "id": "5554d4d2",
   "metadata": {},
   "outputs": [
    {
     "data": {
      "text/plain": [
       "[158661360]"
      ]
     },
     "execution_count": 7,
     "metadata": {},
     "output_type": "execute_result"
    }
   ],
   "source": [
    "list(set([i*j*n for n in df for j in df for i in df if i+j+n==2020]))"
   ]
  },
  {
   "cell_type": "code",
   "execution_count": 8,
   "id": "7cb9783b",
   "metadata": {},
   "outputs": [],
   "source": [
    "df = [1721,979,366,299,675,1456]"
   ]
  },
  {
   "cell_type": "code",
   "execution_count": null,
   "id": "cd553e6a",
   "metadata": {},
   "outputs": [],
   "source": []
  }
 ],
 "metadata": {
  "kernelspec": {
   "display_name": "Python 3",
   "language": "python",
   "name": "python3"
  },
  "language_info": {
   "codemirror_mode": {
    "name": "ipython",
    "version": 3
   },
   "file_extension": ".py",
   "mimetype": "text/x-python",
   "name": "python",
   "nbconvert_exporter": "python",
   "pygments_lexer": "ipython3",
   "version": "3.8.3"
  }
 },
 "nbformat": 4,
 "nbformat_minor": 5
}
